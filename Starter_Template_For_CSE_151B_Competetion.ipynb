{
  "metadata": {
    "kernelspec": {
      "language": "python",
      "display_name": "Python 3",
      "name": "python3"
    },
    "language_info": {
      "name": "python",
      "version": "3.10.12",
      "mimetype": "text/x-python",
      "codemirror_mode": {
        "name": "ipython",
        "version": 3
      },
      "pygments_lexer": "ipython3",
      "nbconvert_exporter": "python",
      "file_extension": ".py"
    },
    "kaggle": {
      "accelerator": "none",
      "dataSources": [],
      "dockerImageVersionId": 30918,
      "isInternetEnabled": true,
      "language": "python",
      "sourceType": "notebook",
      "isGpuEnabled": false
    },
    "colab": {
      "name": "Starter_Template_For_CSE_151B_Competetion",
      "provenance": [],
      "include_colab_link": true
    }
  },
  "nbformat_minor": 0,
  "nbformat": 4,
  "cells": [
    {
      "cell_type": "markdown",
      "metadata": {
        "id": "view-in-github",
        "colab_type": "text"
      },
      "source": [
        "<a href=\"https://colab.research.google.com/github/chw081/2048-Puzzle-Game/blob/main/Starter_Template_For_CSE_151B_Competetion.ipynb\" target=\"_parent\"><img src=\"https://colab.research.google.com/assets/colab-badge.svg\" alt=\"Open In Colab\"/></a>"
      ]
    },
    {
      "cell_type": "markdown",
      "source": [
        "# 🌎 Welcome to the CSE151B Spring 2025 Climate Emulation Competition!\n",
        "\n",
        "Thank you for participating in this exciting challenge focused on building machine learning models to emulate complex climate systems.  \n",
        "This notebook is provided as a **starter template** to help you:\n",
        "\n",
        "- Understand how to load and preprocess the dataset  \n",
        "- Construct a baseline model  \n",
        "- Train and evaluate predictions using a PyTorch Lightning pipeline  \n",
        "- Format your predictions for submission to the leaderboard  \n",
        "\n",
        "You're encouraged to:\n",
        "- Build on this structure or replace it entirely\n",
        "- Try more advanced models and training strategies\n",
        "- Incorporate your own ideas to push the boundaries of what's possible\n",
        "\n",
        "If you're interested in developing within a repository structure and/or use helpful tools like configuration management (based on Hydra) and logging (with Weights & Biases), we recommend checking out the following Github repo. Such a structure can be useful when running multiple experiments and trying various research ideas.\n",
        "\n",
        "👉 [https://github.com/salvaRC/cse151b-spring2025-competition](https://github.com/salvaRC/cse151b-spring2025-competition)\n",
        "\n",
        "Good luck, have fun, and we hope you learn a lot through this process!\n"
      ],
      "metadata": {
        "id": "IAysoOXYcjSY"
      }
    },
    {
      "cell_type": "markdown",
      "source": [
        "### 📦 Install Required Libraries\n",
        "We install the necessary Python packages for data loading, deep learning, and visualization.\n"
      ],
      "metadata": {
        "id": "8pisweaOcjSa"
      }
    },
    {
      "cell_type": "code",
      "source": [
        "!pip install xarray zarr dask lightning matplotlib wandb cftime einops --quiet\n",
        "\n",
        "import os\n",
        "from datetime import datetime\n",
        "import numpy as np\n",
        "import xarray as xr\n",
        "import dask.array as da\n",
        "import torch\n",
        "import torch.nn as nn\n",
        "import torch.optim as optim\n",
        "import matplotlib.pyplot as plt\n",
        "from torch.utils.data import Dataset, DataLoader\n",
        "import lightning.pytorch as pl\n"
      ],
      "metadata": {
        "trusted": true,
        "execution": {
          "iopub.status.busy": "2025-04-01T21:41:18.54824Z",
          "iopub.execute_input": "2025-04-01T21:41:18.548485Z",
          "iopub.status.idle": "2025-04-01T21:41:22.118597Z",
          "shell.execute_reply.started": "2025-04-01T21:41:18.548455Z",
          "shell.execute_reply": "2025-04-01T21:41:22.11741Z"
        },
        "id": "H8fcF7A3cjSa"
      },
      "outputs": [],
      "execution_count": null
    },
    {
      "cell_type": "markdown",
      "source": [
        "### ⚙️ Configuration Setup  \n",
        "Define all model, data, and training hyperparameters in one place for easy control and reproducibility.\n",
        "\n",
        "### 📊 Data Configuration\n",
        "\n",
        "We define the dataset settings used for training and evaluation. This includes:\n",
        "\n",
        "- **`path`**: Path to the `.zarr` dataset containing monthly climate variables from CMIP6 simulations.\n",
        "- **`input_vars`**: Climate forcing variables (e.g., CO₂, CH₄) used as model inputs.\n",
        "- **`output_vars`**: Target variables to predict — surface air temperature (`tas`) and precipitation (`pr`).\n",
        "- **`target_member_id`**: Ensemble member to use from the simulations (each SSP has 3) for target variables.\n",
        "- **`train_ssps`**: SSP scenarios used for training (low to high emissions).\n",
        "- **`test_ssp`**: Scenario held out for evaluation (Must be set to SSP245).\n",
        "- **`test_months`**: Number of months to include in the test split (Must be set to 120).\n",
        "- **`batch_size`** and **`num_workers`**: Data loading parameters for PyTorch training.\n",
        "\n",
        "These settings reflect how the challenge is structured: models must learn from some emission scenarios and generalize to unseen ones.\n",
        "\n",
        "> ⚠️ **Important:** Do **not modify** the following test settings:\n",
        ">\n",
        "> - `test_ssp` must remain **`ssp245`**, which is the held-out evaluation scenario.\n",
        "> - `test_months` must be **`120`**, corresponding to the last 10 years (monthly resolution) of the scenario.\n",
        "\n"
      ],
      "metadata": {
        "id": "PBOUXaPtcjSb"
      }
    },
    {
      "cell_type": "code",
      "source": [
        "#NOTE Change the data directory according to where you have your zarr files stored\n",
        "config = {\n",
        "    \"data\": {\n",
        "        \"path\": \"/kaggle/input/cse151b-spring2025-competition/processed_data_cse151b_v2_corrupted_ssp245/processed_data_cse151b_v2_corrupted_ssp245.zarr\",\n",
        "        \"input_vars\": [\"CO2\", \"SO2\", \"CH4\", \"BC\", \"rsdt\"],\n",
        "        \"output_vars\": [\"tas\", \"pr\"],\n",
        "        \"target_member_id\": 0,\n",
        "        \"train_ssps\": [\"ssp126\", \"ssp370\", \"ssp585\"],\n",
        "        \"test_ssp\": \"ssp245\",\n",
        "        \"test_months\": 120,\n",
        "        \"batch_size\": 64,\n",
        "        \"num_workers\": 4,\n",
        "    },\n",
        "    \"model\": {\n",
        "        \"type\": \"simple_cnn\",\n",
        "        \"kernel_size\": 3,\n",
        "        \"init_dim\": 64,\n",
        "        \"depth\": 4,\n",
        "        \"dropout_rate\": 0.1,\n",
        "    },\n",
        "    \"training\": {\n",
        "        \"lr\": 1e-3,\n",
        "    },\n",
        "    \"trainer\": {\n",
        "        \"max_epochs\": 10,\n",
        "        \"accelerator\": \"auto\",\n",
        "        \"devices\": \"auto\",\n",
        "        \"precision\": 32,\n",
        "        \"deterministic\": True,\n",
        "        \"num_sanity_val_steps\": 0,\n",
        "    },\n",
        "    \"seed\": 42,\n",
        "}\n",
        "pl.seed_everything(config[\"seed\"])  # Set seed for reproducibility"
      ],
      "metadata": {
        "trusted": true,
        "execution": {
          "iopub.status.busy": "2025-04-01T21:41:44.342908Z",
          "iopub.execute_input": "2025-04-01T21:41:44.343209Z",
          "iopub.status.idle": "2025-04-01T21:41:44.359136Z",
          "shell.execute_reply.started": "2025-04-01T21:41:44.343178Z",
          "shell.execute_reply": "2025-04-01T21:41:44.358296Z"
        },
        "id": "aFOYr1-IcjSb"
      },
      "outputs": [],
      "execution_count": null
    },
    {
      "cell_type": "markdown",
      "source": [
        "### 🔧 Spatial Weighting Utility Function\n",
        "\n",
        "This cell sets up utility functions for reproducibility and spatial weighting:\n",
        "\n",
        "- **`get_lat_weights(latitude_values)`**: Computes cosine-based area weights for each latitude, accounting for the Earth's curvature. This is critical for evaluating global climate metrics fairly — grid cells near the equator represent larger surface areas than those near the poles.\n"
      ],
      "metadata": {
        "id": "fHuAurOrcjSb"
      }
    },
    {
      "cell_type": "code",
      "source": [
        "def get_lat_weights(latitude_values):\n",
        "    lat_rad = np.deg2rad(latitude_values)\n",
        "    weights = np.cos(lat_rad)\n",
        "    return weights / np.mean(weights)"
      ],
      "metadata": {
        "trusted": true,
        "execution": {
          "iopub.status.busy": "2025-04-01T21:41:47.930982Z",
          "iopub.execute_input": "2025-04-01T21:41:47.931277Z",
          "iopub.status.idle": "2025-04-01T21:41:47.935294Z",
          "shell.execute_reply.started": "2025-04-01T21:41:47.931255Z",
          "shell.execute_reply": "2025-04-01T21:41:47.934417Z"
        },
        "id": "Vbs5TYXfcjSc"
      },
      "outputs": [],
      "execution_count": null
    },
    {
      "cell_type": "markdown",
      "source": [
        "### 🧠 SimpleCNN: A Residual Convolutional Baseline\n",
        "\n",
        "This is a lightweight baseline model designed to capture spatial patterns in global climate data using convolutional layers.\n",
        "\n",
        "- The architecture starts with a **convolution + batch norm + ReLU** block to process the input channels.\n",
        "- It then applies a series of **residual blocks** to extract increasingly abstract spatial features. These help preserve gradient flow during training.\n",
        "- Finally, a few convolutional layers reduce the feature maps down to the desired number of output channels (`tas` and `pr`).\n",
        "\n",
        "This model only serves as a **simple baseline for climate emulation**.\n",
        "\n",
        "We encourage you to build and experiment with your own models and ideas.\n"
      ],
      "metadata": {
        "id": "OMLPvRrCcjSc"
      }
    },
    {
      "cell_type": "code",
      "source": [
        "class ResidualBlock(nn.Module):\n",
        "    def __init__(self, in_channels, out_channels, kernel_size=3, stride=1):\n",
        "        super().__init__()\n",
        "        self.conv1 = nn.Conv2d(in_channels, out_channels, kernel_size, stride=stride, padding=kernel_size // 2)\n",
        "        self.bn1 = nn.BatchNorm2d(out_channels)\n",
        "        self.relu = nn.ReLU(inplace=True)\n",
        "        self.conv2 = nn.Conv2d(out_channels, out_channels, kernel_size, padding=kernel_size // 2)\n",
        "        self.bn2 = nn.BatchNorm2d(out_channels)\n",
        "        self.skip = nn.Sequential()\n",
        "        if stride != 1 or in_channels != out_channels:\n",
        "            self.skip = nn.Sequential(\n",
        "                nn.Conv2d(in_channels, out_channels, kernel_size=1, stride=stride), nn.BatchNorm2d(out_channels)\n",
        "            )\n",
        "\n",
        "    def forward(self, x):\n",
        "        identity = x\n",
        "        out = self.relu(self.bn1(self.conv1(x)))\n",
        "        out = self.bn2(self.conv2(out))\n",
        "        out += self.skip(identity)\n",
        "        return self.relu(out)\n",
        "\n",
        "class SimpleCNN(nn.Module):\n",
        "    def __init__(self, n_input_channels, n_output_channels, kernel_size=3, init_dim=64, depth=4, dropout_rate=0.2):\n",
        "        super().__init__()\n",
        "        self.initial = nn.Sequential(\n",
        "            nn.Conv2d(n_input_channels, init_dim, kernel_size=kernel_size, padding=kernel_size // 2),\n",
        "            nn.BatchNorm2d(init_dim),\n",
        "            nn.ReLU(inplace=True),\n",
        "        )\n",
        "        self.res_blocks = nn.ModuleList()\n",
        "        current_dim = init_dim\n",
        "        for i in range(depth):\n",
        "            out_dim = current_dim * 2 if i < depth - 1 else current_dim\n",
        "            self.res_blocks.append(ResidualBlock(current_dim, out_dim))\n",
        "            if i < depth - 1:\n",
        "                current_dim *= 2\n",
        "        self.dropout = nn.Dropout2d(dropout_rate)\n",
        "        self.final = nn.Sequential(\n",
        "            nn.Conv2d(current_dim, current_dim // 2, kernel_size=kernel_size, padding=kernel_size // 2),\n",
        "            nn.BatchNorm2d(current_dim // 2),\n",
        "            nn.ReLU(inplace=True),\n",
        "            nn.Conv2d(current_dim // 2, n_output_channels, kernel_size=1),\n",
        "        )\n",
        "\n",
        "    def forward(self, x):\n",
        "        x = self.initial(x)\n",
        "        for res_block in self.res_blocks:\n",
        "            x = res_block(x)\n",
        "        return self.final(self.dropout(x))\n"
      ],
      "metadata": {
        "trusted": true,
        "execution": {
          "iopub.status.busy": "2025-04-01T21:41:50.267047Z",
          "iopub.execute_input": "2025-04-01T21:41:50.267367Z",
          "iopub.status.idle": "2025-04-01T21:41:50.276495Z",
          "shell.execute_reply.started": "2025-04-01T21:41:50.267321Z",
          "shell.execute_reply": "2025-04-01T21:41:50.275511Z"
        },
        "id": "RNcJkxN7cjSc"
      },
      "outputs": [],
      "execution_count": null
    },
    {
      "cell_type": "markdown",
      "source": [
        "### 📐 Normalizer: Z-Score Scaling for Climate Inputs & Outputs\n",
        "\n",
        "This class handles **Z-score normalization**, a crucial preprocessing step for stable and efficient neural network training:\n",
        "\n",
        "- **`set_input_statistics(mean, std)` / `set_output_statistics(...)`**: Store the mean and standard deviation computed from the training data for later use.\n",
        "- **`normalize(data, data_type)`**: Standardizes the data using `(x - mean) / std`. This is applied separately to inputs and outputs.\n",
        "- **`inverse_transform_output(data)`**: Converts model predictions back to the original physical units (e.g., Kelvin for temperature, mm/day for precipitation).\n",
        "\n",
        "Normalizing the data ensures the model sees inputs with similar dynamic ranges and avoids biases caused by different variable scales.\n"
      ],
      "metadata": {
        "id": "4MPNF3_ecjSc"
      }
    },
    {
      "cell_type": "code",
      "source": [
        "class Normalizer:\n",
        "    def __init__(self):\n",
        "        self.mean_in, self.std_in = None, None\n",
        "        self.mean_out, self.std_out = None, None\n",
        "\n",
        "    def set_input_statistics(self, mean, std):\n",
        "        self.mean_in = mean\n",
        "        self.std_in = std\n",
        "\n",
        "    def set_output_statistics(self, mean, std):\n",
        "        self.mean_out = mean\n",
        "        self.std_out = std\n",
        "\n",
        "    def normalize(self, data, data_type):\n",
        "        if data_type == \"input\":\n",
        "            return (data - self.mean_in) / self.std_in\n",
        "        elif data_type == \"output\":\n",
        "            return (data - self.mean_out) / self.std_out\n",
        "\n",
        "    def inverse_transform_output(self, data):\n",
        "        return data * self.std_out + self.mean_out\n"
      ],
      "metadata": {
        "trusted": true,
        "execution": {
          "iopub.status.busy": "2025-04-01T21:41:53.653725Z",
          "iopub.execute_input": "2025-04-01T21:41:53.654123Z",
          "iopub.status.idle": "2025-04-01T21:41:53.66166Z",
          "shell.execute_reply.started": "2025-04-01T21:41:53.654087Z",
          "shell.execute_reply": "2025-04-01T21:41:53.660659Z"
        },
        "id": "SYiZS0gkcjSc"
      },
      "outputs": [],
      "execution_count": null
    },
    {
      "cell_type": "markdown",
      "source": [
        "### 🌍 Data Module: Loading, Normalization, and Splitting\n",
        "\n",
        "This section handles the entire data pipeline, from loading the `.zarr` dataset to preparing PyTorch-ready DataLoaders.\n",
        "\n",
        "#### `ClimateDataset`\n",
        "- A simple PyTorch `Dataset` wrapper that preloads the entire (normalized) dataset into memory using Dask.\n",
        "- Converts the data to PyTorch tensors and handles any `NaN` checks up front.\n",
        "\n",
        "#### `ClimateDataModule`\n",
        "A PyTorch Lightning `DataModule` that handles:\n",
        "- ✅ **Loading data** from different SSP scenarios and ensemble members\n",
        "- ✅ **Broadcasting non-spatial inputs** (like CO₂) to match spatial grid size\n",
        "- ✅ **Normalization** using mean/std computed from training data only\n",
        "- ✅ **Splitting** into training, validation, and test sets:\n",
        "  - Training: All months from selected SSPs (except last 10 years of SSP370)\n",
        "  - Validation: Last 10 years (120 months) of SSP370\n",
        "  - Test: Last 10 years of SSP245 (unseen scenario)\n",
        "- ✅ **Batching** and parallelized data loading via PyTorch `DataLoader`s\n",
        "- ✅ **Latitude-based area weighting** for fair climate metric evaluation\n",
        "- Shape of the inputs are Batch_Size X 5 (num_input_variables) X 48 X 72\n",
        "- Shape of ouputputs are Batch_Size X 2 (num_output_variables) X 48 X 72\n",
        "\n",
        "> ℹ️ **Note:** You likely won’t need to modify this class but feel free to make modifications if you want to inlcude different ensemble mebers to feed more data to your models\n"
      ],
      "metadata": {
        "id": "ir0-o1txcjSc"
      }
    },
    {
      "cell_type": "code",
      "source": [
        "class ClimateDataset(Dataset):\n",
        "    def __init__(self, inputs_dask, outputs_dask, output_is_normalized=True):\n",
        "        self.size = inputs_dask.shape[0]\n",
        "        print(f\"Creating dataset with {self.size} samples...\")\n",
        "\n",
        "        inputs_np = inputs_dask.compute()\n",
        "        outputs_np = outputs_dask.compute()\n",
        "\n",
        "        self.inputs = torch.from_numpy(inputs_np).float()\n",
        "        self.outputs = torch.from_numpy(outputs_np).float()\n",
        "\n",
        "        if torch.isnan(self.inputs).any() or torch.isnan(self.outputs).any():\n",
        "            raise ValueError(\"NaNs found in dataset\")\n",
        "\n",
        "    def __len__(self):\n",
        "        return self.size\n",
        "\n",
        "    def __getitem__(self, idx):\n",
        "        return self.inputs[idx], self.outputs[idx]\n",
        "\n",
        "\n",
        "class ClimateDataModule(pl.LightningDataModule):\n",
        "    def __init__(\n",
        "        self,\n",
        "        path,\n",
        "        input_vars,\n",
        "        output_vars,\n",
        "        train_ssps,\n",
        "        test_ssp,\n",
        "        target_member_id,\n",
        "        val_split=0.1,\n",
        "        test_months=120,\n",
        "        batch_size=32,\n",
        "        num_workers=0,\n",
        "        seed=42,\n",
        "    ):\n",
        "        super().__init__()\n",
        "        self.path = path\n",
        "        self.input_vars = input_vars\n",
        "        self.output_vars = output_vars\n",
        "        self.train_ssps = train_ssps\n",
        "        self.test_ssp = test_ssp\n",
        "        self.target_member_id = target_member_id\n",
        "        self.val_split = val_split\n",
        "        self.test_months = test_months\n",
        "        self.batch_size = batch_size\n",
        "        self.num_workers = num_workers\n",
        "        self.seed = seed\n",
        "        self.normalizer = Normalizer()\n",
        "\n",
        "    def prepare_data(self):\n",
        "        assert os.path.exists(self.path), f\"Data path not found: {self.path}\"\n",
        "\n",
        "    def setup(self, stage=None):\n",
        "        ds = xr.open_zarr(self.path, consolidated=False, chunks={\"time\": 24})\n",
        "        spatial_template = ds[\"rsdt\"].isel(time=0, ssp=0, drop=True)\n",
        "\n",
        "        def load_ssp(ssp):\n",
        "            input_dask, output_dask = [], []\n",
        "            for var in self.input_vars:\n",
        "                da_var = ds[var].sel(ssp=ssp)\n",
        "                if \"latitude\" in da_var.dims:\n",
        "                    da_var = da_var.rename({\"latitude\": \"y\", \"longitude\": \"x\"})\n",
        "                if \"member_id\" in da_var.dims:\n",
        "                    da_var = da_var.sel(member_id=self.target_member_id)\n",
        "                if set(da_var.dims) == {\"time\"}:\n",
        "                    da_var = da_var.broadcast_like(spatial_template).transpose(\"time\", \"y\", \"x\")\n",
        "                input_dask.append(da_var.data)\n",
        "\n",
        "            for var in self.output_vars:\n",
        "                da_out = ds[var].sel(ssp=ssp, member_id=self.target_member_id)\n",
        "                if \"latitude\" in da_out.dims:\n",
        "                    da_out = da_out.rename({\"latitude\": \"y\", \"longitude\": \"x\"})\n",
        "                output_dask.append(da_out.data)\n",
        "\n",
        "            return da.stack(input_dask, axis=1), da.stack(output_dask, axis=1)\n",
        "\n",
        "        train_input, train_output, val_input, val_output = [], [], None, None\n",
        "\n",
        "        for ssp in self.train_ssps:\n",
        "            x, y = load_ssp(ssp)\n",
        "            if ssp == \"ssp370\":\n",
        "                val_input = x[-self.test_months:]\n",
        "                val_output = y[-self.test_months:]\n",
        "                train_input.append(x[:-self.test_months])\n",
        "                train_output.append(y[:-self.test_months])\n",
        "            else:\n",
        "                train_input.append(x)\n",
        "                train_output.append(y)\n",
        "\n",
        "        train_input = da.concatenate(train_input, axis=0)\n",
        "        train_output = da.concatenate(train_output, axis=0)\n",
        "\n",
        "        self.normalizer.set_input_statistics(\n",
        "            mean=da.nanmean(train_input, axis=(0, 2, 3), keepdims=True).compute(),\n",
        "            std=da.nanstd(train_input, axis=(0, 2, 3), keepdims=True).compute(),\n",
        "        )\n",
        "        self.normalizer.set_output_statistics(\n",
        "            mean=da.nanmean(train_output, axis=(0, 2, 3), keepdims=True).compute(),\n",
        "            std=da.nanstd(train_output, axis=(0, 2, 3), keepdims=True).compute(),\n",
        "        )\n",
        "\n",
        "        train_input_norm = self.normalizer.normalize(train_input, \"input\")\n",
        "        train_output_norm = self.normalizer.normalize(train_output, \"output\")\n",
        "        val_input_norm = self.normalizer.normalize(val_input, \"input\")\n",
        "        val_output_norm = self.normalizer.normalize(val_output, \"output\")\n",
        "\n",
        "        test_input, test_output = load_ssp(self.test_ssp)\n",
        "        test_input = test_input[-self.test_months:]\n",
        "        test_output = test_output[-self.test_months:]\n",
        "        test_input_norm = self.normalizer.normalize(test_input, \"input\")\n",
        "\n",
        "        self.train_dataset = ClimateDataset(train_input_norm, train_output_norm)\n",
        "        self.val_dataset = ClimateDataset(val_input_norm, val_output_norm)\n",
        "        self.test_dataset = ClimateDataset(test_input_norm, test_output, output_is_normalized=False)\n",
        "\n",
        "        self.lat = spatial_template.y.values\n",
        "        self.lon = spatial_template.x.values\n",
        "        self.area_weights = xr.DataArray(get_lat_weights(self.lat), dims=[\"y\"], coords={\"y\": self.lat})\n",
        "\n",
        "    def train_dataloader(self):\n",
        "        return DataLoader(self.train_dataset, batch_size=self.batch_size, shuffle=True,\n",
        "                          num_workers=self.num_workers, pin_memory=True)\n",
        "\n",
        "    def val_dataloader(self):\n",
        "        return DataLoader(self.val_dataset, batch_size=self.batch_size, shuffle=False,\n",
        "                          num_workers=self.num_workers, pin_memory=True)\n",
        "\n",
        "    def test_dataloader(self):\n",
        "        return DataLoader(self.test_dataset, batch_size=self.batch_size, shuffle=False,\n",
        "                          num_workers=self.num_workers, pin_memory=True)\n",
        "\n",
        "    def get_lat_weights(self):\n",
        "        return self.area_weights\n",
        "\n",
        "    def get_coords(self):\n",
        "        return self.lat, self.lon"
      ],
      "metadata": {
        "trusted": true,
        "execution": {
          "iopub.status.busy": "2025-04-01T21:47:19.571562Z",
          "iopub.execute_input": "2025-04-01T21:47:19.5719Z",
          "iopub.status.idle": "2025-04-01T21:47:19.591655Z",
          "shell.execute_reply.started": "2025-04-01T21:47:19.57187Z",
          "shell.execute_reply": "2025-04-01T21:47:19.590706Z"
        },
        "id": "5MK6Kh5PcjSc"
      },
      "outputs": [],
      "execution_count": null
    },
    {
      "cell_type": "markdown",
      "source": [
        "### ⚡ ClimateEmulationModule: Lightning Wrapper for Climate Model Emulation\n",
        "\n",
        "This is the core model wrapper built with **PyTorch Lightning**, which organizes the training, validation, and testing logic for the climate emulation task. Lightning abstracts away much of the boilerplate code in PyTorch-based deep learning workflows, making it easier to scale models.\n",
        "\n",
        "#### ✅ Key Features\n",
        "\n",
        "- **`training_step` / `validation_step` / `test_step`**: Standard Lightning hooks for computing loss and predictions at each stage. The loss used is **Mean Squared Error (MSE)**.\n",
        "\n",
        "- **Normalization-aware outputs**:\n",
        "  - During validation and testing, predictions and targets are denormalized before evaluation using stored mean/std statistics.\n",
        "  - This ensures evaluation is done in real-world units (Kelvin and mm/day).\n",
        "\n",
        "- **Metric Evaluation** via `_evaluate()`:\n",
        "  For each variable (`tas`, `pr`), it calculates:\n",
        "  - **Monthly Area-Weighted RMSE**\n",
        "  - **Time-Mean RMSE** (RMSE on 10-year average's)\n",
        "  - **Time-Stddev MAE** (MAE on 10-year standard deviation; a measure of temporal variability)\n",
        "    \n",
        "  These metrics reflect the competition's evaluation criteria and are logged and printed.\n",
        "\n",
        "- **Kaggle Submission Writer**:\n",
        "  After testing, predictions are saved to a `.csv` file in the required Kaggle format via `_save_submission()`.\n",
        "\n",
        "- **Saving Predictions for Visualization**:\n",
        "  - Validation predictions are saved tao `val_preds.npy` and `val_trues.npy`\n",
        "  - These can be loaded later for visual inspection of the model's performance.\n",
        "\n",
        " 🔧 **Feel free to modify any part of this module** (loss functions, evaluation, training logic) to better suit your model or training pipeline / Use pure PyTorch etc.\n",
        "\n",
        "⚠️ The **final submission `.csv` file must strictly follow the format and naming convention used in `_save_submission()`**, as these `ID`s are used to match predictions to the hidden test set during evaluation.\n",
        "\n"
      ],
      "metadata": {
        "id": "GMQXslFUcjSd"
      }
    },
    {
      "cell_type": "code",
      "source": [
        "import pandas as pd\n",
        "\n",
        "class ClimateEmulationModule(pl.LightningModule):\n",
        "    def __init__(self, model, learning_rate=1e-4):\n",
        "        super().__init__()\n",
        "        self.model = model\n",
        "        self.save_hyperparameters(ignore=['model']) # Save all hyperparameters except the model to self.hparams.<param_name>\n",
        "        self.criterion = nn.MSELoss()\n",
        "        self.normalizer = None\n",
        "        self.val_preds, self.val_targets = [], []\n",
        "        self.test_preds, self.test_targets = [], []\n",
        "\n",
        "    def forward(self, x):\n",
        "        return self.model(x)\n",
        "\n",
        "    def on_fit_start(self):\n",
        "        self.normalizer = self.trainer.datamodule.normalizer  # Get the normalizer from the datamodule (see above)\n",
        "\n",
        "    def training_step(self, batch, batch_idx):\n",
        "        x, y = batch # Unpack inputs and targets (this is the output of the _getitem_ method in the Dataset above)\n",
        "        y_hat = self(x)   # Forward pass\n",
        "        loss = self.criterion(y_hat, y)  # Calculate loss\n",
        "        self.log(\"train/loss\", loss)  # Log loss for tracking\n",
        "        return loss\n",
        "\n",
        "    def validation_step(self, batch, batch_idx):\n",
        "        x, y = batch\n",
        "        y_hat = self(x)\n",
        "        loss = self.criterion(y_hat, y)\n",
        "        self.log(\"val/loss\", loss)\n",
        "\n",
        "        y_hat_np = self.normalizer.inverse_transform_output(y_hat.detach().cpu().numpy())\n",
        "        y_np = self.normalizer.inverse_transform_output(y.detach().cpu().numpy())\n",
        "        self.val_preds.append(y_hat_np)\n",
        "        self.val_targets.append(y_np)\n",
        "\n",
        "        return loss\n",
        "\n",
        "    def on_validation_epoch_end(self):\n",
        "        # Concatenate all predictions and ground truths from each val step/batch into one array\n",
        "        preds = np.concatenate(self.val_preds, axis=0)\n",
        "        trues = np.concatenate(self.val_targets, axis=0)\n",
        "        self._evaluate(preds, trues, phase=\"val\")\n",
        "        np.save(\"val_preds.npy\", preds)\n",
        "        np.save(\"val_trues.npy\", trues)\n",
        "        self.val_preds.clear()\n",
        "        self.val_targets.clear()\n",
        "\n",
        "    def test_step(self, batch, batch_idx):\n",
        "        x, y = batch\n",
        "        y_hat = self(x)\n",
        "        y_hat_np = self.normalizer.inverse_transform_output(y_hat.detach().cpu().numpy())\n",
        "        y_np = y.detach().cpu().numpy()\n",
        "        self.test_preds.append(y_hat_np)\n",
        "        self.test_targets.append(y_np)\n",
        "\n",
        "    def on_test_epoch_end(self):\n",
        "        # Concatenate all predictions and ground truths from each test step/batch into one array\n",
        "        preds = np.concatenate(self.test_preds, axis=0)\n",
        "        trues = np.concatenate(self.test_targets, axis=0)\n",
        "        self._evaluate(preds, trues, phase=\"test\")\n",
        "        self._save_submission(preds)\n",
        "        self.test_preds.clear()\n",
        "        self.test_targets.clear()\n",
        "\n",
        "    def configure_optimizers(self):\n",
        "        return optim.Adam(self.parameters(), lr=self.hparams.learning_rate)\n",
        "\n",
        "    def _evaluate(self, preds, trues, phase=\"val\"):\n",
        "        datamodule = self.trainer.datamodule\n",
        "        area_weights = datamodule.get_lat_weights()\n",
        "        lat, lon = datamodule.get_coords()\n",
        "        time = np.arange(preds.shape[0])\n",
        "        output_vars = datamodule.output_vars\n",
        "\n",
        "        for i, var in enumerate(output_vars):\n",
        "            p = preds[:, i]\n",
        "            t = trues[:, i]\n",
        "            p_xr = xr.DataArray(p, dims=[\"time\", \"y\", \"x\"], coords={\"time\": time, \"y\": lat, \"x\": lon})\n",
        "            t_xr = xr.DataArray(t, dims=[\"time\", \"y\", \"x\"], coords={\"time\": time, \"y\": lat, \"x\": lon})\n",
        "\n",
        "            # RMSE\n",
        "            rmse = np.sqrt(((p_xr - t_xr) ** 2).weighted(area_weights).mean((\"time\", \"y\", \"x\")).item())\n",
        "            # RMSE of time-mean\n",
        "            mean_rmse = np.sqrt(((p_xr.mean(\"time\") - t_xr.mean(\"time\")) ** 2).weighted(area_weights).mean((\"y\", \"x\")).item())\n",
        "            # MAE of time-stddev\n",
        "            std_mae = np.abs(p_xr.std(\"time\") - t_xr.std(\"time\")).weighted(area_weights).mean((\"y\", \"x\")).item()\n",
        "\n",
        "            print(f\"[{phase.upper()}] {var}: RMSE={rmse:.4f}, Time-Mean RMSE={mean_rmse:.4f}, Time-Stddev MAE={std_mae:.4f}\")\n",
        "            self.log_dict({\n",
        "                f\"{phase}/{var}/rmse\": rmse,\n",
        "                f\"{phase}/{var}/time_mean_rmse\": mean_rmse,\n",
        "                f\"{phase}/{var}/time_std_mae\": std_mae,\n",
        "            })\n",
        "\n",
        "    def _save_submission(self, predictions):\n",
        "        datamodule = self.trainer.datamodule\n",
        "        lat, lon = datamodule.get_coords()\n",
        "        output_vars = datamodule.output_vars\n",
        "        time = np.arange(predictions.shape[0])\n",
        "\n",
        "        rows = []\n",
        "        for t_idx, t in enumerate(time):\n",
        "            for var_idx, var in enumerate(output_vars):\n",
        "                for y_idx, y in enumerate(lat):\n",
        "                    for x_idx, x in enumerate(lon):\n",
        "                        row_id = f\"t{t_idx:03d}_{var}_{y:.2f}_{x:.2f}\"\n",
        "                        pred = predictions[t_idx, var_idx, y_idx, x_idx]\n",
        "                        rows.append({\"ID\": row_id, \"Prediction\": pred})\n",
        "\n",
        "        df = pd.DataFrame(rows)\n",
        "        os.makedirs(\"submissions\", exist_ok=True)\n",
        "        filepath = f\"submissions/kaggle_submission_{datetime.now().strftime('%Y%m%d_%H%M%S')}.csv\"\n",
        "        df.to_csv(filepath, index=False)\n",
        "        print(f\"✅ Submission saved to: {filepath}\")"
      ],
      "metadata": {
        "trusted": true,
        "execution": {
          "iopub.status.busy": "2025-04-01T21:47:23.669041Z",
          "iopub.execute_input": "2025-04-01T21:47:23.669376Z",
          "iopub.status.idle": "2025-04-01T21:47:23.684782Z",
          "shell.execute_reply.started": "2025-04-01T21:47:23.669319Z",
          "shell.execute_reply": "2025-04-01T21:47:23.683857Z"
        },
        "id": "l2LNoLbMcjSd"
      },
      "outputs": [],
      "execution_count": null
    },
    {
      "cell_type": "markdown",
      "source": [
        "### ⚡ Training & Evaluation with PyTorch Lightning\n",
        "\n",
        "This block sets up and runs the training and testing pipeline using **PyTorch Lightning’s `Trainer`**, which abstracts away much of the boilerplate in deep learning workflows.\n",
        "\n",
        "- **Modular Setup**:\n",
        "  - `datamodule`: Handles loading, normalization, and batching of climate data.\n",
        "  - `model`: A convolutional neural network that maps climate forcings to predicted outputs.\n",
        "  - `lightning_module`: Wraps the model with training/validation/test logic and metric evaluation.\n",
        "\n",
        "- **Trainer Flexibility**:\n",
        "  The `Trainer` accepts a wide range of configuration options from `config[\"trainer\"]`, including:\n",
        "  - Number of epochs\n",
        "  - Precision (e.g., 16-bit or 32-bit)\n",
        "  - Device configuration (CPU, GPU, or TPU)\n",
        "  - Determinism, logging, callbacks, and more"
      ],
      "metadata": {
        "id": "bQWC_q8rcjSd"
      }
    },
    {
      "cell_type": "code",
      "source": [
        "datamodule = ClimateDataModule(**config[\"data\"])\n",
        "model = SimpleCNN(\n",
        "    n_input_channels=len(config[\"data\"][\"input_vars\"]),\n",
        "    n_output_channels=len(config[\"data\"][\"output_vars\"]),\n",
        "    **{k: v for k, v in config[\"model\"].items() if k != \"type\"}\n",
        ")\n",
        "lightning_module = ClimateEmulationModule(model, learning_rate=config[\"training\"][\"lr\"])\n",
        "\n",
        "trainer = pl.Trainer(**config[\"trainer\"])\n",
        "trainer.fit(lightning_module, datamodule=datamodule)   # Training"
      ],
      "metadata": {
        "trusted": true,
        "execution": {
          "iopub.status.busy": "2025-04-01T21:47:27.93744Z",
          "iopub.execute_input": "2025-04-01T21:47:27.937745Z",
          "iopub.status.idle": "2025-04-01T21:54:19.582044Z",
          "shell.execute_reply.started": "2025-04-01T21:47:27.937722Z",
          "shell.execute_reply": "2025-04-01T21:54:19.581285Z"
        },
        "id": "x78ZZIi9cjSd"
      },
      "outputs": [],
      "execution_count": null
    },
    {
      "cell_type": "markdown",
      "source": [
        "# Test model\n",
        "\n",
        "**IMPORTANT:** Please note that the test metrics will be bad because the test targets have been corrupted on the public Kaggle dataset.\n",
        "The purpose of testing below is to generate the Kaggle submission file based on your model's predictions, which you can submit to the competition."
      ],
      "metadata": {
        "id": "rvZvzP1BcjSd"
      }
    },
    {
      "cell_type": "code",
      "source": [
        "trainer.test(lightning_module, datamodule=datamodule)"
      ],
      "metadata": {
        "trusted": true,
        "execution": {
          "iopub.status.busy": "2025-04-01T21:54:22.622213Z",
          "iopub.execute_input": "2025-04-01T21:54:22.622589Z",
          "iopub.status.idle": "2025-04-01T21:54:34.498363Z",
          "shell.execute_reply.started": "2025-04-01T21:54:22.622553Z",
          "shell.execute_reply": "2025-04-01T21:54:34.497464Z"
        },
        "id": "HXBJSM52cjSd"
      },
      "outputs": [],
      "execution_count": null
    },
    {
      "cell_type": "markdown",
      "source": [
        "### Plotting Utils\n"
      ],
      "metadata": {
        "id": "XFl_rRqAcjSd"
      }
    },
    {
      "cell_type": "code",
      "source": [
        "def plot_comparison(true_xr, pred_xr, title, cmap='viridis', diff_cmap='RdBu_r', metric=None):\n",
        "    fig, axs = plt.subplots(1, 3, figsize=(18, 6))\n",
        "\n",
        "    vmin = min(true_xr.min().item(), pred_xr.min().item())\n",
        "    vmax = max(true_xr.max().item(), pred_xr.max().item())\n",
        "\n",
        "    # Ground truth\n",
        "    true_xr.plot(ax=axs[0], cmap=cmap, vmin=vmin, vmax=vmax, add_colorbar=True)\n",
        "    axs[0].set_title(f\"{title} (Ground Truth)\")\n",
        "\n",
        "    # Prediction\n",
        "    pred_xr.plot(ax=axs[1], cmap=cmap, vmin=vmin, vmax=vmax, add_colorbar=True)\n",
        "    axs[1].set_title(f\"{title} (Prediction)\")\n",
        "\n",
        "    # Difference\n",
        "    diff = pred_xr - true_xr\n",
        "    abs_max = np.max(np.abs(diff))\n",
        "    diff.plot(ax=axs[2], cmap=diff_cmap, vmin=-abs_max, vmax=abs_max, add_colorbar=True)\n",
        "    axs[2].set_title(f\"{title} (Difference) {f'- {metric:.4f}' if metric else ''}\")\n",
        "\n",
        "    plt.tight_layout()\n",
        "    plt.show()\n"
      ],
      "metadata": {
        "trusted": true,
        "execution": {
          "iopub.status.busy": "2025-04-01T21:54:40.423863Z",
          "iopub.execute_input": "2025-04-01T21:54:40.424172Z",
          "iopub.status.idle": "2025-04-01T21:54:40.430857Z",
          "shell.execute_reply.started": "2025-04-01T21:54:40.424147Z",
          "shell.execute_reply": "2025-04-01T21:54:40.429891Z"
        },
        "id": "mI2KIYAWcjSd"
      },
      "outputs": [],
      "execution_count": null
    },
    {
      "cell_type": "markdown",
      "source": [
        "### 🖼️ Visualizing Validation Predictions\n",
        "\n",
        "This cell loads saved validation predictions and compares them to the ground truth using spatial plots. These visualizations help you qualitatively assess your model's performance.\n",
        "\n",
        "For each output variable (`tas`, `pr`), we visualize:\n",
        "\n",
        "- **📈 Time-Mean Map**: The 10-year average spatial pattern for both prediction and ground truth. Helps identify long-term biases or spatial shifts.\n",
        "- **📊 Time-Stddev Map**: Shows the standard deviation across time for each grid cell — useful for assessing how well the model captures **temporal variability** at each location.\n",
        "- **🕓 Random Timestep Sample**: Visual comparison of prediction vs ground truth for a single month. Useful for spotting fine-grained anomalies or errors in specific months.\n",
        "\n",
        "> These plots provide intuition beyond metrics and are useful for debugging spatial or temporal model failures.\n"
      ],
      "metadata": {
        "id": "SLPn5JMCcjSd"
      }
    },
    {
      "cell_type": "code",
      "source": [
        "# Load validation predictions\n",
        "# make sure to have run the validation loop at least once\n",
        "val_preds = np.load(\"val_preds.npy\")\n",
        "val_trues = np.load(\"val_trues.npy\")\n",
        "\n",
        "lat, lon = datamodule.get_coords()\n",
        "output_vars = datamodule.output_vars\n",
        "time = np.arange(val_preds.shape[0])\n",
        "\n",
        "for i, var in enumerate(output_vars):\n",
        "    pred_xr = xr.DataArray(val_preds[:, i], dims=[\"time\", \"y\", \"x\"], coords={\"time\": time, \"y\": lat, \"x\": lon})\n",
        "    true_xr = xr.DataArray(val_trues[:, i], dims=[\"time\", \"y\", \"x\"], coords={\"time\": time, \"y\": lat, \"x\": lon})\n",
        "\n",
        "    # --- Time Mean ---\n",
        "    plot_comparison(true_xr.mean(\"time\"), pred_xr.mean(\"time\"), f\"{var} Val Time-Mean\")\n",
        "\n",
        "    # --- Time Stddev ---\n",
        "    plot_comparison(true_xr.std(\"time\"), pred_xr.std(\"time\"), f\"{var} Val Time-Stddev\", cmap=\"plasma\")\n",
        "\n",
        "    # --- Random timestep ---\n",
        "    t_idx = np.random.randint(0, len(time))\n",
        "    plot_comparison(true_xr.isel(time=t_idx), pred_xr.isel(time=t_idx), f\"{var} Val Sample Timestep {t_idx}\")\n"
      ],
      "metadata": {
        "trusted": true,
        "execution": {
          "iopub.status.busy": "2025-04-01T21:54:42.413433Z",
          "iopub.execute_input": "2025-04-01T21:54:42.413739Z",
          "iopub.status.idle": "2025-04-01T21:54:46.94296Z",
          "shell.execute_reply.started": "2025-04-01T21:54:42.413716Z",
          "shell.execute_reply": "2025-04-01T21:54:46.942037Z"
        },
        "id": "FTwomL4FcjSd"
      },
      "outputs": [],
      "execution_count": null
    },
    {
      "cell_type": "markdown",
      "source": [
        "## 🧪 Final Notes\n",
        "\n",
        "This notebook is meant to serve as a **baseline template** — a starting point to help you get up and running quickly with the climate emulation challenge.\n",
        "\n",
        "You are **not** required to stick to this exact setup. In fact, we **encourage** you to:\n",
        "\n",
        "- 🔁 Build on top of the provided `DataModule`.\n",
        "- 🧠 Use your own model architectures or training pipelines that you’re more comfortable with\n",
        "- ⚗️ Experiment with ideas  \n",
        "- 🥇 Compete creatively to climb the Kaggle leaderboard  \n",
        "- 🙌 Most importantly: **have fun** and **learn as much as you can** along the way\n",
        "\n",
        "This challenge simulates a real-world scientific problem, and there’s no single \"correct\" approach — so be curious, experiment boldly, and make it your own!\n"
      ],
      "metadata": {
        "id": "aTgke-ldcjSd"
      }
    },
    {
      "cell_type": "code",
      "source": [],
      "metadata": {
        "trusted": true,
        "id": "wk64XVLicjSd"
      },
      "outputs": [],
      "execution_count": null
    }
  ]
}